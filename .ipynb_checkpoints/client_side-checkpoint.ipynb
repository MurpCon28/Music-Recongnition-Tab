{
 "cells": [
  {
   "cell_type": "code",
   "execution_count": 1,
   "id": "12064540",
   "metadata": {},
   "outputs": [],
   "source": [
    "#import warnings\n",
    "#warnings.filterwarnings(\"ignore\")\n",
    "\n",
    "#!jupyter nbextension enable --py widgetsnbextension --sys-prefix\n",
    "#!jupyter serverextension enable voila --sys-prefix"
   ]
  },
  {
   "cell_type": "code",
   "execution_count": 2,
   "id": "19ec71b0",
   "metadata": {},
   "outputs": [],
   "source": [
    "import wave\n",
    "import numpy as np\n",
    "import matplotlib.pyplot as plt\n",
    "import matplotlib.mlab as mlab\n",
    "from scipy import signal\n",
    "from scipy.io import wavfile\n",
    "import pylab\n",
    "import matplotlib.mlab as ml\n",
    "from scipy.fftpack import fft\n",
    "import pyaudio\n",
    "import struct\n",
    "import pickle\n",
    "from sys import byteorder\n",
    "from array import array\n",
    "from struct import pack\n",
    "\n",
    "%matplotlib tk\n",
    "\n",
    "import ipywidgets as widgets\n",
    "from IPython.display import display, clear_output"
   ]
  },
  {
   "cell_type": "code",
   "execution_count": 3,
   "id": "c478d3e7",
   "metadata": {},
   "outputs": [],
   "source": [
    "with open(\"hashtable.pkl\", \"rb\") as input_file:\n",
    "    hashtable = pickle.load( input_file)\n",
    "with open(\"songid.pkl\", \"rb\") as input_file:\n",
    "    song_dict = pickle.load(input_file)"
   ]
  },
  {
   "cell_type": "code",
   "execution_count": 4,
   "id": "1ad0debe",
   "metadata": {},
   "outputs": [],
   "source": [
    "#Number of songs in database\n",
    "file = open('songs.txt','r')#list of song files ----> use      ls >allsongs\n",
    "allsongs = file.readlines()\n",
    "allsongs = [a[:-1] for a in allsongs]\n",
    "numOfSongs = len(allsongs)"
   ]
  },
  {
   "cell_type": "code",
   "execution_count": 5,
   "id": "800e45f8",
   "metadata": {},
   "outputs": [],
   "source": [
    "DEFAULT_FS = 44100\n",
    "DEFAULT_WINDOW_SIZE = 4096\n",
    "DEFAULT_OVERLAP_RATIO = 0.5\n",
    "DEFAULT_FAN_VALUE = 15\n",
    "DEFAULT_AMP_MIN = 10\n",
    "\n",
    "def graph_spectrogram(sound_info, frame_rate):\n",
    "    pylab.figure(num=None, figsize=(19, 12))\n",
    "    pylab.subplot(111)\n",
    "    pylab.specgram(sound_info, Fs=frame_rate)\n",
    "    pylab.savefig('spectrogram.png')\n",
    "\n",
    "\"\"\"\n",
    "Function that converts a byte string into a numpy array\n",
    "\"\"\"\n",
    "def _wav2array(nchannels, sampwidth, data):\n",
    "    num_samples, remainder = divmod(len(data), sampwidth * nchannels)\n",
    "    if remainder > 0:\n",
    "        raise ValueError('The length of data is not a multiple of '\n",
    "                         'sampwidth * num_channels.')\n",
    "    if sampwidth > 4:\n",
    "        raise ValueError(\"sampwidth must not be greater than 4.\")\n",
    "\n",
    "    if sampwidth == 3:\n",
    "        a = np.empty((num_samples, nchannels, 4), dtype=np.uint8)\n",
    "        raw_bytes = np.fromstring(data, dtype=np.uint8)\n",
    "        a[:, :, :sampwidth] = raw_bytes.reshape(-1, nchannels, sampwidth)\n",
    "        a[:, :, sampwidth:] = (a[:, :, sampwidth - 1:sampwidth] >> 7) * 255\n",
    "        result = a.view('<i4').reshape(a.shape[:-1])\n",
    "    else:\n",
    "        dt_char = 'u' if sampwidth == 1 else 'i'\n",
    "        a = np.fromstring(data, dtype='<%s%d' % (dt_char, sampwidth))\n",
    "        result = a.reshape(-1, nchannels)\n",
    "    return result\n",
    "\n",
    "\"\"\"\n",
    "Function to convert stereo to mono\n",
    "\"\"\"\n",
    "\n",
    "def stereo2mono(audiodata, nchannels):\n",
    "#     if nchannels==1:\n",
    "#         return audiodata.astype(int)\n",
    "    audiodata = audiodata.astype(float)\n",
    "    d = audiodata.sum(axis=1) / 2\n",
    "    return d.astype(int)\n",
    "\n",
    "\"\"\"\n",
    "Class containing details of the wav file that has been read.\n",
    "Sample use:\n",
    "    song_x = song(\"abc.wav\")\n",
    "\"\"\"\n",
    "class song:\n",
    "    def __init__(self, file, songid):\n",
    "        wav = wave.open(file)\n",
    "        self.song_id = songid\n",
    "        self.title = file.split(\"/\")[-1]\n",
    "        self.rate = wav.getframerate()\n",
    "        self.nchannels = wav.getnchannels()\n",
    "        self.sampwidth = wav.getsampwidth()\n",
    "        self.nframes = wav.getnframes()\n",
    "        self.data = wav.readframes(self.nframes)\n",
    "        self.array = stereo2mono(_wav2array(self.nchannels, self.sampwidth, self.data), self.nchannels)\n",
    "        wav.close()\n",
    "    def spectrogram(self):\n",
    "        self.specgram, self.frequencies, self.times = ml.specgram(self.array, Fs=self.rate, NFFT = 4096, window = ml.window_hanning, noverlap = int(4096 * 0.5), mode='magnitude')\n",
    "        self.specgram = 10*np.log10(self.specgram)\n",
    "        self.specgram[self.specgram==-np.inf] = 0\n",
    "#         self.specgram = (1/20)*(np.exp(self.specgram))\n",
    "#         self.specgram[self.specgram<100000000000000000] = 100000000000000000\n",
    "#         self.specgram[self.specgram>10000000000000000000] = 10000000000000000000\n",
    "#         fig, ax = plt.subplots()\n",
    "#         ax.imshow(self.specgram, aspect='auto')\n",
    "#         ax.set_xlabel('Time')\n",
    "#         ax.set_ylabel('Frequency')\n",
    "#         ax.set_title(\"Spectrogram of \"+self.title)\n",
    "#         plt.gca().invert_yaxis()\n",
    "#         plt.show()\n",
    "    def find_key(self):\n",
    "        self.spectrogram()\n",
    "        all_times = self.specgram.transpose()\n",
    "        #self.all_times = all_times\n",
    "        bands = []\n",
    "        count = 0\n",
    "        for a in all_times:\n",
    "            l = []\n",
    "            x = max(a[0:10])\n",
    "            l.append((x, [list(a[0:10]).index(x),self.times[count]]))\n",
    "            x = max(a[10:20])\n",
    "            l.append((x, [list(a[10:20]).index(x)+10,self.times[count]]))\n",
    "            x = max(a[20:40])\n",
    "            l.append((x, [list(a[20:40]).index(x)+20,self.times[count]]))\n",
    "            x = max(a[40:80])\n",
    "            l.append((x, [list(a[40:80]).index(x)+40,self.times[count]]))\n",
    "            x = max(a[80:160])\n",
    "            l.append((x, [list(a[80:160]).index(x)+80,self.times[count]]))\n",
    "            x = max(a[160:510])\n",
    "            l.append((x, [list(a[160:510]).index(x)+160,self.times[count]]))\n",
    "            bands.append(l)\n",
    "            count+=1\n",
    "        l = []\n",
    "        #print('length',len(bands))\n",
    "        for a in bands:\n",
    "            for b in a:\n",
    "                l.append(b[0])\n",
    "        #l has all the amplitudes in bands\n",
    "        mean = .1*np.mean(l)\n",
    "        new_bands = []\n",
    "        for i in range(0, len(bands)):\n",
    "            a = bands[i]\n",
    "            m = [t[1] for t in a if t[0]>mean]\n",
    "            if len(m)!=0:\n",
    "                new_bands.append(m)\n",
    "        self.bands = new_bands\n",
    "    def cal_address(self):\n",
    "        new_bands = []\n",
    "        for ele in self.bands:\n",
    "            for sub in ele:\n",
    "                new_bands.append(sub)\n",
    "        self.addresses = {}\n",
    "        target_zone = 0\n",
    "        for i in range(3,len(new_bands)-4):\n",
    "            anchor_point = new_bands[i-3]\n",
    "            for ele in new_bands[i:i+5]:\n",
    "                diff = float(\"%.2f\"%(ele[1] - anchor_point[1]))\n",
    "                val =  float(\"%.2f\"%(anchor_point[1]))\n",
    "                if (anchor_point[0],ele[0],diff) not in self.addresses.keys():\n",
    "                    self.addresses[anchor_point[0],ele[0],diff] = []\n",
    "                self.addresses[anchor_point[0],ele[0],diff].append([val,target_zone])\n",
    "            target_zone+=1\n",
    "        print(target_zone)\n",
    "    def search(self):\n",
    "        #search\n",
    "        matched_couples = []\n",
    "        for key in total.addresses:\n",
    "            if key in hashtable.keys():\n",
    "                matched_couples.append(hashtable[key])\n",
    "        \n",
    "        count = [0 for i in range(numOfSongs)]\n",
    "        target_zone_keys = {}\n",
    "        for ele in matched_couples:\n",
    "            for subele in ele:\n",
    "                count[subele[1]]+=1\n",
    "                tup = (subele[1],subele[2])\n",
    "                if tup not in target_zone_keys.keys():\n",
    "                    target_zone_keys[tup] = 0\n",
    "                target_zone_keys[tup]+=1\n",
    "        \n",
    "        matched_target_zone = [0 for i in range(numOfSongs)]\n",
    "        for key in target_zone_keys:\n",
    "            if target_zone_keys[key]==5:\n",
    "                matched_target_zone[key[0]]+=1\n",
    "        print('matched target zone ',matched_target_zone)\n",
    "        return matched_target_zone.index(max(matched_target_zone))"
   ]
  },
  {
   "cell_type": "code",
   "execution_count": 6,
   "id": "fb24e5c5",
   "metadata": {},
   "outputs": [],
   "source": [
    "#defining parameters\n",
    "chunk = 4096\n",
    "format = pyaudio.paInt16\n",
    "channels = 1\n",
    "rate = 44100\n",
    "record_seconds = 20\n",
    "NORMALIZE_MINUS_ONE_dB = 10 ** (-1.0 / 20)\n",
    "FRAME_MAX_VALUE = 2 ** 15 - 1\n",
    "wave_output_file = \"output.wav\""
   ]
  },
  {
   "cell_type": "code",
   "execution_count": 7,
   "id": "48775b26",
   "metadata": {},
   "outputs": [],
   "source": [
    "def normalize(data_all):\n",
    "        #Amplify the volume out to max -1dB\n",
    "        normalize_factor = (float(NORMALIZE_MINUS_ONE_dB * FRAME_MAX_VALUE)\n",
    "                            / max(abs(i) for i in data_all))\n",
    "        r = array('h')\n",
    "        for i in data_all:\n",
    "            r.append(int(i * normalize_factor))\n",
    "        return r\n",
    "def record():\n",
    "        #define an audio object and input stream\n",
    "\n",
    "        p = pyaudio.PyAudio()\n",
    "        stream = p.open(format=format,channels=channels,rate=rate,input=True,frames_per_buffer=chunk)\n",
    "\n",
    "        print(\"Recording\")\n",
    "\n",
    "        frames = []\n",
    "        r = array('h')\n",
    "        for i in range(0,int((rate/chunk)*record_seconds)+1):\n",
    "            # little endian, signed short\n",
    "            snd_data = array('h', stream.read(chunk))\n",
    "            r.extend(snd_data)\n",
    "            #data = stream.read(chunk)\n",
    "            #frames.append(data)\n",
    "        r = normalize(r)\n",
    "        data = pack('<' + ('h'*len(r)), *r)\n",
    "        print(\"done recording\")\n",
    "\n",
    "        stream.stop_stream()\n",
    "        stream.close()\n",
    "        p.terminate()\n",
    "\n",
    "        wf = wave.open(wave_output_file,'wb')\n",
    "        wf.setnchannels(channels)\n",
    "        #print('sample width   ', p.get_sample_size(format))\n",
    "        wf.setsampwidth(p.get_sample_size(format))\n",
    "        wf.setframerate(rate)\n",
    "        wf.writeframes(data)\n",
    "        wf.close()\n",
    "\n",
    "#total = song(\"output.wav\", 0)\n",
    "def results():\n",
    "        total = song(\"output.wav\", 0)\n",
    "        total.find_key()\n",
    "        total.cal_address()\n",
    "        idx = total.search()\n",
    "\n",
    "        print('Predicted Song {}'.format(allsongs[idx]))\n",
    "\n",
    "        remove_wav = (allsongs[idx]).replace('.wav', '')\n",
    "        predicted_song = remove_wav.replace(' ', '%20')\n",
    "        print(predicted_song)\n",
    "\n",
    "        youtube_link = \"https://www.youtube.com/results?search_query=\"\n",
    "        youtube_song_link = \"\".join((youtube_link, predicted_song))\n",
    "        print(\"Youtube Lesson - \" + youtube_song_link +\"%20guitar%20lesson\")\n",
    "\n",
    "        guitar_tab_link = \"https://www.ultimate-guitar.com/search.php?search_type=title&value=\"\n",
    "        guitar_tab_song_link = \"\".join((guitar_tab_link, predicted_song))\n",
    "        print(\"Guitar Tab - \" + guitar_tab_song_link)\n",
    "        "
   ]
  },
  {
   "cell_type": "code",
   "execution_count": 19,
   "id": "4478e657",
   "metadata": {},
   "outputs": [
    {
     "name": "stderr",
     "output_type": "stream",
     "text": [
      "<ipython-input-5-4b34562e5883>:32: DeprecationWarning: The binary mode of fromstring is deprecated, as it behaves surprisingly on unicode inputs. Use frombuffer instead\n",
      "  a = np.fromstring(data, dtype='<%s%d' % (dt_char, sampwidth))\n"
     ]
    },
    {
     "name": "stdout",
     "output_type": "stream",
     "text": [
      "2572\n",
      "matched target zone  [117, 199, 204, 1298, 250, 0, 386]\n",
      "Predicted Song The Rolling Stones - Monkey Man.wav\n",
      "The%20Rolling%20Stones%20-%20Monkey%20Man\n",
      "Youtube Lesson - https://www.youtube.com/results?search_query=The%20Rolling%20Stones%20-%20Monkey%20Man%20guitar%20lesson\n",
      "Guitar Tab - https://www.ultimate-guitar.com/search.php?search_type=title&value=The%20Rolling%20Stones%20-%20Monkey%20Man\n"
     ]
    }
   ],
   "source": [
    "total = song(\"output.wav\", 0)\n",
    "total.find_key()\n",
    "total.cal_address()\n",
    "idx = total.search()\n",
    "\n",
    "print('Predicted Song {}'.format(allsongs[idx]))\n",
    "\n",
    "remove_wav = (allsongs[idx]).replace('.wav', '')\n",
    "predicted_song = remove_wav.replace(' ', '%20')\n",
    "print(predicted_song)\n",
    "\n",
    "youtube_link = \"https://www.youtube.com/results?search_query=\"\n",
    "youtube_song_link = \"\".join((youtube_link, predicted_song))\n",
    "print(\"Youtube Lesson - \" + youtube_song_link +\"%20guitar%20lesson\")\n",
    "\n",
    "guitar_tab_link = \"https://www.ultimate-guitar.com/search.php?search_type=title&value=\"\n",
    "guitar_tab_song_link = \"\".join((guitar_tab_link, predicted_song))\n",
    "print(\"Guitar Tab - \" + guitar_tab_song_link)"
   ]
  },
  {
   "cell_type": "code",
   "execution_count": 8,
   "id": "8403d228",
   "metadata": {},
   "outputs": [],
   "source": [
    "#For recording\n",
    "#record()"
   ]
  },
  {
   "cell_type": "code",
   "execution_count": 9,
   "id": "463d3fa1",
   "metadata": {},
   "outputs": [],
   "source": [
    "#total = song(\"output.wav\", 0)\n",
    "#total.find_key()\n",
    "#total.cal_address()\n",
    "#idx = total.search()"
   ]
  },
  {
   "cell_type": "code",
   "execution_count": 10,
   "id": "6a1be7af",
   "metadata": {
    "scrolled": true
   },
   "outputs": [],
   "source": [
    "#print('Predicted Song {}'.format(allsongs[idx]))"
   ]
  },
  {
   "cell_type": "code",
   "execution_count": 11,
   "id": "689d67fe",
   "metadata": {},
   "outputs": [],
   "source": [
    "#remove_wav = (allsongs[idx]).replace('.wav', '')\n",
    "#predicted_song = remove_wav.replace(' ', '%20')\n",
    "#print(predicted_song)"
   ]
  },
  {
   "cell_type": "code",
   "execution_count": 12,
   "id": "4cc2d051",
   "metadata": {},
   "outputs": [],
   "source": [
    "#youtube_link = \"https://www.youtube.com/results?search_query=\"\n",
    "#youtube_song_link = \"\".join((youtube_link, predicted_song))"
   ]
  },
  {
   "cell_type": "code",
   "execution_count": 13,
   "id": "e0d925dc",
   "metadata": {},
   "outputs": [],
   "source": [
    "#print(\"Youtube Lesson - \" + youtube_song_link +\"%20guitar%20lesson\")"
   ]
  },
  {
   "cell_type": "code",
   "execution_count": 14,
   "id": "e5f07a4e",
   "metadata": {},
   "outputs": [],
   "source": [
    "#guitar_tab_link = \"https://www.ultimate-guitar.com/search.php?search_type=title&value=\"\n",
    "#guitar_tab_song_link = \"\".join((guitar_tab_link, predicted_song))"
   ]
  },
  {
   "cell_type": "code",
   "execution_count": 15,
   "id": "d763db85",
   "metadata": {},
   "outputs": [],
   "source": [
    "#print(\"Guitar Tab - \" + guitar_tab_song_link)"
   ]
  },
  {
   "cell_type": "code",
   "execution_count": 16,
   "id": "8e0478af",
   "metadata": {},
   "outputs": [
    {
     "data": {
      "application/vnd.jupyter.widget-view+json": {
       "model_id": "b57213e585c34526950ef48f3cd3ec74",
       "version_major": 2,
       "version_minor": 0
      },
      "text/plain": [
       "Button(description='Start Recording', style=ButtonStyle(), tooltip='Send')"
      ]
     },
     "metadata": {},
     "output_type": "display_data"
    },
    {
     "data": {
      "application/vnd.jupyter.widget-view+json": {
       "model_id": "e81046665f374d36b6bd77a63a245d9a",
       "version_major": 2,
       "version_minor": 0
      },
      "text/plain": [
       "Output()"
      ]
     },
     "metadata": {},
     "output_type": "display_data"
    }
   ],
   "source": [
    "#Button For Recording\n",
    "\n",
    "button = widgets.Button(\n",
    "    description=\"Start Recording\",\n",
    "    tooltip=\"Send\"\n",
    ")\n",
    "\n",
    "output = widgets.Output()\n",
    "\n",
    "display(button, output)\n",
    "\n",
    "def on_button_clicked(event):\n",
    "    with output:\n",
    "        clear_output()\n",
    "        record()\n",
    "\n",
    "button.on_click(on_button_clicked)"
   ]
  },
  {
   "cell_type": "code",
   "execution_count": 17,
   "id": "8c34d089",
   "metadata": {},
   "outputs": [
    {
     "data": {
      "application/vnd.jupyter.widget-view+json": {
       "model_id": "36bbb641d1de470287ede9b6705064aa",
       "version_major": 2,
       "version_minor": 0
      },
      "text/plain": [
       "Button(description='Show Results', style=ButtonStyle(), tooltip='Send')"
      ]
     },
     "metadata": {},
     "output_type": "display_data"
    },
    {
     "data": {
      "application/vnd.jupyter.widget-view+json": {
       "model_id": "f11290989e8d4a47962ffe22ee151231",
       "version_major": 2,
       "version_minor": 0
      },
      "text/plain": [
       "Output()"
      ]
     },
     "metadata": {},
     "output_type": "display_data"
    }
   ],
   "source": [
    "#Button For result\n",
    "\n",
    "button = widgets.Button(\n",
    "    description=\"Show Results\",\n",
    "    tooltip=\"Send\"\n",
    ")\n",
    "\n",
    "output = widgets.Output()\n",
    "\n",
    "display(button, output)\n",
    "\n",
    "def resultButton(event):\n",
    "    with output:\n",
    "        clear_output()\n",
    "        results()\n",
    "\n",
    "button.on_click(resultButton)"
   ]
  },
  {
   "cell_type": "code",
   "execution_count": 18,
   "id": "b3aa2bd0",
   "metadata": {},
   "outputs": [],
   "source": [
    "#!pip freeze > requirements.txt"
   ]
  }
 ],
 "metadata": {
  "kernelspec": {
   "display_name": "Python 3",
   "language": "python",
   "name": "python3"
  },
  "language_info": {
   "codemirror_mode": {
    "name": "ipython",
    "version": 3
   },
   "file_extension": ".py",
   "mimetype": "text/x-python",
   "name": "python",
   "nbconvert_exporter": "python",
   "pygments_lexer": "ipython3",
   "version": "3.8.8"
  }
 },
 "nbformat": 4,
 "nbformat_minor": 5
}
