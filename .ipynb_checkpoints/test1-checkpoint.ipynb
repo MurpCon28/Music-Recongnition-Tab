{
 "cells": [
  {
   "cell_type": "code",
   "execution_count": 1,
   "id": "3b476325",
   "metadata": {},
   "outputs": [],
   "source": [
    "import ipywidgets as widgets\n",
    "from IPython.display import display, clear_output\n",
    "import pyaudio"
   ]
  },
  {
   "cell_type": "code",
   "execution_count": 3,
   "id": "f8fa8b67",
   "metadata": {},
   "outputs": [],
   "source": [
    "#defining parameters\n",
    "chunk = 4096\n",
    "format = pyaudio.paInt16\n",
    "channels = 1\n",
    "rate = 44100\n",
    "record_seconds = 20\n",
    "NORMALIZE_MINUS_ONE_dB = 10 ** (-1.0 / 20)\n",
    "FRAME_MAX_VALUE = 2 ** 15 - 1\n",
    "wave_output_file = \"output.wav\""
   ]
  },
  {
   "cell_type": "code",
   "execution_count": 4,
   "id": "33d8c45b",
   "metadata": {},
   "outputs": [],
   "source": [
    "def normalize(data_all):\n",
    "        #Amplify the volume out to max -1dB\n",
    "        normalize_factor = (float(NORMALIZE_MINUS_ONE_dB * FRAME_MAX_VALUE)\n",
    "                            / max(abs(i) for i in data_all))\n",
    "        r = array('h')\n",
    "        for i in data_all:\n",
    "            r.append(int(i * normalize_factor))\n",
    "        return r\n",
    "\n",
    "def record():\n",
    "        #define an audio object and input stream\n",
    "\n",
    "        p = pyaudio.PyAudio()\n",
    "        stream = p.open(format=format,channels=channels,rate=rate,input=True,frames_per_buffer=chunk)\n",
    "\n",
    "        print(\"Recording\")\n",
    "\n",
    "        frames = []\n",
    "        r = array('h')\n",
    "        for i in range(0,int((rate/chunk)*record_seconds)+1):\n",
    "            # little endian, signed short\n",
    "            snd_data = array('h', stream.read(chunk))\n",
    "            r.extend(snd_data)\n",
    "            #data = stream.read(chunk)\n",
    "            #frames.append(data)\n",
    "        r = normalize(r)\n",
    "        data = pack('<' + ('h'*len(r)), *r)\n",
    "        print(\"done recording\")\n",
    "\n",
    "        stream.stop_stream()\n",
    "        stream.close()\n",
    "        p.terminate()\n",
    "\n",
    "        wf = wave.open(wave_output_file,'wb')\n",
    "        wf.setnchannels(channels)\n",
    "        #print('sample width   ', p.get_sample_size(format))\n",
    "        wf.setsampwidth(p.get_sample_size(format))\n",
    "        wf.setframerate(rate)\n",
    "        wf.writeframes(data)\n",
    "        wf.close()"
   ]
  },
  {
   "cell_type": "code",
   "execution_count": 5,
   "id": "ed697a61",
   "metadata": {},
   "outputs": [
    {
     "data": {
      "application/vnd.jupyter.widget-view+json": {
       "model_id": "52d7b48cb9c9484a8b693e882433f8dc",
       "version_major": 2,
       "version_minor": 0
      },
      "text/plain": [
       "Button(description='Click Me!', style=ButtonStyle(), tooltip='Send')"
      ]
     },
     "metadata": {},
     "output_type": "display_data"
    },
    {
     "data": {
      "application/vnd.jupyter.widget-view+json": {
       "model_id": "f368e308af204063ada8692c56138e38",
       "version_major": 2,
       "version_minor": 0
      },
      "text/plain": [
       "Output()"
      ]
     },
     "metadata": {},
     "output_type": "display_data"
    }
   ],
   "source": [
    "button = widgets.Button(\n",
    "    description=\"Click Me!\",\n",
    "    tooltip=\"Send\"\n",
    ")\n",
    "\n",
    "output = widgets.Output()\n",
    "\n",
    "display(button, output)\n",
    "\n",
    "def on_button_clicked(event):\n",
    "    with output:\n",
    "        clear_output()\n",
    "        print(\"Ouch\")\n",
    "        record()\n",
    "        \n",
    "\n",
    "button.on_click(on_button_clicked)"
   ]
  },
  {
   "cell_type": "code",
   "execution_count": null,
   "id": "1e45f6e9",
   "metadata": {},
   "outputs": [],
   "source": []
  }
 ],
 "metadata": {
  "kernelspec": {
   "display_name": "Python 3",
   "language": "python",
   "name": "python3"
  },
  "language_info": {
   "codemirror_mode": {
    "name": "ipython",
    "version": 3
   },
   "file_extension": ".py",
   "mimetype": "text/x-python",
   "name": "python",
   "nbconvert_exporter": "python",
   "pygments_lexer": "ipython3",
   "version": "3.8.8"
  }
 },
 "nbformat": 4,
 "nbformat_minor": 5
}
