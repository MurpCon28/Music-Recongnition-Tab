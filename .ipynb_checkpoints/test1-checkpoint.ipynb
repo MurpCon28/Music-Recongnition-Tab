{
 "cells": [
  {
   "cell_type": "code",
   "execution_count": 1,
   "id": "2e29af3e",
   "metadata": {},
   "outputs": [],
   "source": [
    "import ipywidgets as widgets\n",
    "from IPython.display import display, clear_output\n",
    "import pyaudio"
   ]
  },
  {
   "cell_type": "code",
   "execution_count": 3,
   "id": "0fed463e",
   "metadata": {},
   "outputs": [],
   "source": [
    "def record():\n",
    "        #define an audio object and input stream\n",
    "\n",
    "        p = pyaudio.PyAudio()\n",
    "        stream = p.open(format=format,channels=channels,rate=rate,input=True,frames_per_buffer=chunk)\n",
    "\n",
    "        print(\"Recording\")\n",
    "\n",
    "        frames = []\n",
    "        r = array('h')\n",
    "        for i in range(0,int((rate/chunk)*record_seconds)+1):\n",
    "            # little endian, signed short\n",
    "            snd_data = array('h', stream.read(chunk))\n",
    "            r.extend(snd_data)\n",
    "            #data = stream.read(chunk)\n",
    "            #frames.append(data)\n",
    "        r = normalize(r)\n",
    "        data = pack('<' + ('h'*len(r)), *r)\n",
    "        print(\"done recording\")\n",
    "\n",
    "        stream.stop_stream()\n",
    "        stream.close()\n",
    "        p.terminate()\n",
    "\n",
    "        wf = wave.open(wave_output_file,'wb')\n",
    "        wf.setnchannels(channels)\n",
    "        #print('sample width   ', p.get_sample_size(format))\n",
    "        wf.setsampwidth(p.get_sample_size(format))\n",
    "        wf.setframerate(rate)\n",
    "        wf.writeframes(data)\n",
    "        wf.close()"
   ]
  },
  {
   "cell_type": "code",
   "execution_count": 4,
   "id": "ceccb324",
   "metadata": {},
   "outputs": [
    {
     "data": {
      "application/vnd.jupyter.widget-view+json": {
       "model_id": "8a4cbd96311f435485b3563f08238463",
       "version_major": 2,
       "version_minor": 0
      },
      "text/plain": [
       "Button(description='Click Me!', style=ButtonStyle(), tooltip='Send')"
      ]
     },
     "metadata": {},
     "output_type": "display_data"
    },
    {
     "data": {
      "application/vnd.jupyter.widget-view+json": {
       "model_id": "6a16c06c7143468ba04661787947a49d",
       "version_major": 2,
       "version_minor": 0
      },
      "text/plain": [
       "Output()"
      ]
     },
     "metadata": {},
     "output_type": "display_data"
    }
   ],
   "source": [
    "button = widgets.Button(\n",
    "    description=\"Click Me!\",\n",
    "    tooltip=\"Send\"\n",
    ")\n",
    "\n",
    "output = widgets.Output()\n",
    "\n",
    "display(button, output)\n",
    "\n",
    "def on_button_clicked(event):\n",
    "    with output:\n",
    "        clear_output()\n",
    "        print(\"Ouch\")\n",
    "        record()\n",
    "        \n",
    "\n",
    "button.on_click(on_button_clicked)"
   ]
  },
  {
   "cell_type": "code",
   "execution_count": null,
   "id": "966898eb",
   "metadata": {},
   "outputs": [],
   "source": []
  }
 ],
 "metadata": {
  "kernelspec": {
   "display_name": "Python 3",
   "language": "python",
   "name": "python3"
  },
  "language_info": {
   "codemirror_mode": {
    "name": "ipython",
    "version": 3
   },
   "file_extension": ".py",
   "mimetype": "text/x-python",
   "name": "python",
   "nbconvert_exporter": "python",
   "pygments_lexer": "ipython3",
   "version": "3.8.8"
  }
 },
 "nbformat": 4,
 "nbformat_minor": 5
}
